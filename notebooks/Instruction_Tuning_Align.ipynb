{
 "cells": [
  {
   "cell_type": "markdown",
   "metadata": {},
   "source": [
    "# Author: ddukic"
   ]
  },
  {
   "cell_type": "code",
   "execution_count": 1,
   "metadata": {},
   "outputs": [],
   "source": [
    "from datasets import load_dataset\n",
    "\n",
    "dataset = load_dataset(\"conll2003\", split=\"train\")"
   ]
  },
  {
   "cell_type": "code",
   "execution_count": 79,
   "metadata": {},
   "outputs": [],
   "source": [
    "def extract_nonzero_spans(tokens, labels, id2label):\n",
    "    spans = []\n",
    "    current_span = None\n",
    "    label_previous = None\n",
    "\n",
    "    for token, label in zip(tokens, labels):\n",
    "        if label != 0:\n",
    "            if current_span is not None and (\n",
    "                label == label_previous + 1 or label == label_previous\n",
    "            ):\n",
    "                current_span.append((token, id2label[label]))\n",
    "            else:\n",
    "                if current_span is not None:\n",
    "                    spans.append(\n",
    "                        \" \".join([x[0] for x in current_span])\n",
    "                        + \":\"\n",
    "                        + current_span[0][1]\n",
    "                    )\n",
    "                current_span = [(token, id2label[label])]\n",
    "                label_previous = label\n",
    "        elif current_span is not None:\n",
    "            spans.append(\n",
    "                \" \".join([x[0] for x in current_span]) + \":\" + current_span[0][1]\n",
    "            )\n",
    "            current_span = None\n",
    "            label_previous = None\n",
    "\n",
    "    if current_span is not None:\n",
    "        spans.append(\" \".join([x[0] for x in current_span]) + \":\" + current_span[0][1])\n",
    "\n",
    "    return \";\".join(spans)\n",
    "\n",
    "\n",
    "def extract_bio_spans(tokens, labels):\n",
    "    spans = []\n",
    "    current_span = None\n",
    "    label_previous = None\n",
    "\n",
    "    for token, label in zip(tokens, labels):\n",
    "        if label != \"O\":\n",
    "            tag, phrase_type = label.split(\"-\")\n",
    "            if current_span is not None and (\n",
    "                tag == \"I\" and phrase_type == label_previous\n",
    "            ):\n",
    "                current_span.append((token, phrase_type))\n",
    "            else:\n",
    "                if current_span is not None:\n",
    "                    spans.append(\n",
    "                        \" \".join([x[0] for x in current_span])\n",
    "                        + \":\"\n",
    "                        + current_span[0][1]\n",
    "                    )\n",
    "                current_span = [(token, phrase_type)]\n",
    "                label_previous = phrase_type\n",
    "        elif current_span is not None:\n",
    "            spans.append(\n",
    "                \" \".join([x[0] for x in current_span]) + \":\" + current_span[0][1]\n",
    "            )\n",
    "            current_span = None\n",
    "            label_previous = None\n",
    "\n",
    "    if current_span is not None:\n",
    "        spans.append(\" \".join([x[0] for x in current_span]) + \":\" + current_span[0][1])\n",
    "\n",
    "    return \";\".join(spans)"
   ]
  },
  {
   "cell_type": "code",
   "execution_count": 82,
   "metadata": {},
   "outputs": [],
   "source": [
    "tokens = dataset[\"tokens\"][0]\n",
    "labels_ner = dataset[\"ner_tags\"][0]\n",
    "labels_chunk = dataset[\"chunk_tags\"][0]\n",
    "\n",
    "id2label_ner = {\n",
    "    1: \"person\",\n",
    "    2: \"person\",\n",
    "    3: \"organization\",\n",
    "    4: \"organization\",\n",
    "    5: \"location\",\n",
    "    6: \"location\",\n",
    "    7: \"miscellaneous\",\n",
    "    8: \"miscellaneous\",\n",
    "}\n",
    "\n",
    "id2label_chunk = {\n",
    "    1: \"adjective phrase\",\n",
    "    2: \"adjective phrase\",\n",
    "    3: \"adverb phrase\",\n",
    "    4: \"adverb phrase\",\n",
    "    5: \"conjunction phrase\",\n",
    "    6: \"conjunction phrase\",\n",
    "    7: \"interjection\",\n",
    "    8: \"interjection\",\n",
    "    9: \"list marker\",\n",
    "    10: \"list marker\",\n",
    "    11: \"noun phrase\",\n",
    "    12: \"noun phrase\",\n",
    "    13: \"prepositional phrase\",\n",
    "    14: \"prepositional phrase\",\n",
    "    15: \"particles\",\n",
    "    16: \"particles\",\n",
    "    17: \"subordinated clause\",\n",
    "    18: \"subordinated clause\",\n",
    "    19: \"unlike coordinated phrase\",\n",
    "    20: \"unlike coordinated phrase\",\n",
    "    21: \"verb phrase\",\n",
    "    22: \"verb phrase\",\n",
    "}"
   ]
  },
  {
   "cell_type": "code",
   "execution_count": 74,
   "metadata": {},
   "outputs": [],
   "source": [
    "import spacy\n",
    "from spacy import displacy\n",
    "from spacy.tokens import Doc\n",
    "\n",
    "nlp = spacy.load(\"en_core_web_lg\")\n",
    "\n",
    "\n",
    "def viz_text(tokens, tags):\n",
    "    assert len(tokens) == len(tags)\n",
    "\n",
    "    doc = Doc(nlp.vocab, words=tokens, ents=tags)\n",
    "\n",
    "    displacy.render(\n",
    "        doc,\n",
    "        style=\"ent\",\n",
    "        options={\n",
    "            \"ents\": list(set(id2label_chunk.values())),\n",
    "            \"colors\": {x: \"#ff6961\" for x in list(set(id2label_chunk.values()))},\n",
    "        },\n",
    "    )"
   ]
  },
  {
   "cell_type": "code",
   "execution_count": 75,
   "metadata": {},
   "outputs": [
    {
     "data": {
      "text/html": [
       "<span class=\"tex2jax_ignore\"><div class=\"entities\" style=\"line-height: 2.5; direction: ltr\">\n",
       "<mark class=\"entity\" style=\"background: #ff6961; padding: 0.45em 0.6em; margin: 0 0.25em; line-height: 1; border-radius: 0.35em;\">\n",
       "    A Florida restaurant\n",
       "    <span style=\"font-size: 0.8em; font-weight: bold; line-height: 1; border-radius: 0.35em; vertical-align: middle; margin-left: 0.5rem\">noun phrase</span>\n",
       "</mark>\n",
       " \n",
       "<mark class=\"entity\" style=\"background: #ff6961; padding: 0.45em 0.6em; margin: 0 0.25em; line-height: 1; border-radius: 0.35em;\">\n",
       "    paid\n",
       "    <span style=\"font-size: 0.8em; font-weight: bold; line-height: 1; border-radius: 0.35em; vertical-align: middle; margin-left: 0.5rem\">verb phrase</span>\n",
       "</mark>\n",
       " \n",
       "<mark class=\"entity\" style=\"background: #ff6961; padding: 0.45em 0.6em; margin: 0 0.25em; line-height: 1; border-radius: 0.35em;\">\n",
       "    10,925 pounds\n",
       "    <span style=\"font-size: 0.8em; font-weight: bold; line-height: 1; border-radius: 0.35em; vertical-align: middle; margin-left: 0.5rem\">noun phrase</span>\n",
       "</mark>\n",
       " ( \n",
       "<mark class=\"entity\" style=\"background: #ff6961; padding: 0.45em 0.6em; margin: 0 0.25em; line-height: 1; border-radius: 0.35em;\">\n",
       "    $ 16,935\n",
       "    <span style=\"font-size: 0.8em; font-weight: bold; line-height: 1; border-radius: 0.35em; vertical-align: middle; margin-left: 0.5rem\">noun phrase</span>\n",
       "</mark>\n",
       " ) \n",
       "<mark class=\"entity\" style=\"background: #ff6961; padding: 0.45em 0.6em; margin: 0 0.25em; line-height: 1; border-radius: 0.35em;\">\n",
       "    for\n",
       "    <span style=\"font-size: 0.8em; font-weight: bold; line-height: 1; border-radius: 0.35em; vertical-align: middle; margin-left: 0.5rem\">prepositional phrase</span>\n",
       "</mark>\n",
       " \n",
       "<mark class=\"entity\" style=\"background: #ff6961; padding: 0.45em 0.6em; margin: 0 0.25em; line-height: 1; border-radius: 0.35em;\">\n",
       "    the draft\n",
       "    <span style=\"font-size: 0.8em; font-weight: bold; line-height: 1; border-radius: 0.35em; vertical-align: middle; margin-left: 0.5rem\">noun phrase</span>\n",
       "</mark>\n",
       " \n",
       "<mark class=\"entity\" style=\"background: #ff6961; padding: 0.45em 0.6em; margin: 0 0.25em; line-height: 1; border-radius: 0.35em;\">\n",
       "    of\n",
       "    <span style=\"font-size: 0.8em; font-weight: bold; line-height: 1; border-radius: 0.35em; vertical-align: middle; margin-left: 0.5rem\">prepositional phrase</span>\n",
       "</mark>\n",
       " &quot; \n",
       "<mark class=\"entity\" style=\"background: #ff6961; padding: 0.45em 0.6em; margin: 0 0.25em; line-height: 1; border-radius: 0.35em;\">\n",
       "    Ai\n",
       "    <span style=\"font-size: 0.8em; font-weight: bold; line-height: 1; border-radius: 0.35em; vertical-align: middle; margin-left: 0.5rem\">verb phrase</span>\n",
       "</mark>\n",
       " n't \n",
       "<mark class=\"entity\" style=\"background: #ff6961; padding: 0.45em 0.6em; margin: 0 0.25em; line-height: 1; border-radius: 0.35em;\">\n",
       "    no\n",
       "    <span style=\"font-size: 0.8em; font-weight: bold; line-height: 1; border-radius: 0.35em; vertical-align: middle; margin-left: 0.5rem\">noun phrase</span>\n",
       "</mark>\n",
       " \n",
       "<mark class=\"entity\" style=\"background: #ff6961; padding: 0.45em 0.6em; margin: 0 0.25em; line-height: 1; border-radius: 0.35em;\">\n",
       "    telling\n",
       "    <span style=\"font-size: 0.8em; font-weight: bold; line-height: 1; border-radius: 0.35em; vertical-align: middle; margin-left: 0.5rem\">verb phrase</span>\n",
       "</mark>\n",
       " &quot; , \n",
       "<mark class=\"entity\" style=\"background: #ff6961; padding: 0.45em 0.6em; margin: 0 0.25em; line-height: 1; border-radius: 0.35em;\">\n",
       "    which\n",
       "    <span style=\"font-size: 0.8em; font-weight: bold; line-height: 1; border-radius: 0.35em; vertical-align: middle; margin-left: 0.5rem\">noun phrase</span>\n",
       "</mark>\n",
       " \n",
       "<mark class=\"entity\" style=\"background: #ff6961; padding: 0.45em 0.6em; margin: 0 0.25em; line-height: 1; border-radius: 0.35em;\">\n",
       "    Hendrix\n",
       "    <span style=\"font-size: 0.8em; font-weight: bold; line-height: 1; border-radius: 0.35em; vertical-align: middle; margin-left: 0.5rem\">noun phrase</span>\n",
       "</mark>\n",
       " \n",
       "<mark class=\"entity\" style=\"background: #ff6961; padding: 0.45em 0.6em; margin: 0 0.25em; line-height: 1; border-radius: 0.35em;\">\n",
       "    penned\n",
       "    <span style=\"font-size: 0.8em; font-weight: bold; line-height: 1; border-radius: 0.35em; vertical-align: middle; margin-left: 0.5rem\">verb phrase</span>\n",
       "</mark>\n",
       " \n",
       "<mark class=\"entity\" style=\"background: #ff6961; padding: 0.45em 0.6em; margin: 0 0.25em; line-height: 1; border-radius: 0.35em;\">\n",
       "    on\n",
       "    <span style=\"font-size: 0.8em; font-weight: bold; line-height: 1; border-radius: 0.35em; vertical-align: middle; margin-left: 0.5rem\">prepositional phrase</span>\n",
       "</mark>\n",
       " \n",
       "<mark class=\"entity\" style=\"background: #ff6961; padding: 0.45em 0.6em; margin: 0 0.25em; line-height: 1; border-radius: 0.35em;\">\n",
       "    a piece\n",
       "    <span style=\"font-size: 0.8em; font-weight: bold; line-height: 1; border-radius: 0.35em; vertical-align: middle; margin-left: 0.5rem\">noun phrase</span>\n",
       "</mark>\n",
       " \n",
       "<mark class=\"entity\" style=\"background: #ff6961; padding: 0.45em 0.6em; margin: 0 0.25em; line-height: 1; border-radius: 0.35em;\">\n",
       "    of\n",
       "    <span style=\"font-size: 0.8em; font-weight: bold; line-height: 1; border-radius: 0.35em; vertical-align: middle; margin-left: 0.5rem\">prepositional phrase</span>\n",
       "</mark>\n",
       " \n",
       "<mark class=\"entity\" style=\"background: #ff6961; padding: 0.45em 0.6em; margin: 0 0.25em; line-height: 1; border-radius: 0.35em;\">\n",
       "    London hotel stationery\n",
       "    <span style=\"font-size: 0.8em; font-weight: bold; line-height: 1; border-radius: 0.35em; vertical-align: middle; margin-left: 0.5rem\">noun phrase</span>\n",
       "</mark>\n",
       " \n",
       "<mark class=\"entity\" style=\"background: #ff6961; padding: 0.45em 0.6em; margin: 0 0.25em; line-height: 1; border-radius: 0.35em;\">\n",
       "    in\n",
       "    <span style=\"font-size: 0.8em; font-weight: bold; line-height: 1; border-radius: 0.35em; vertical-align: middle; margin-left: 0.5rem\">prepositional phrase</span>\n",
       "</mark>\n",
       " \n",
       "<mark class=\"entity\" style=\"background: #ff6961; padding: 0.45em 0.6em; margin: 0 0.25em; line-height: 1; border-radius: 0.35em;\">\n",
       "    late 1966\n",
       "    <span style=\"font-size: 0.8em; font-weight: bold; line-height: 1; border-radius: 0.35em; vertical-align: middle; margin-left: 0.5rem\">noun phrase</span>\n",
       "</mark>\n",
       " . </div></span>"
      ],
      "text/plain": [
       "<IPython.core.display.HTML object>"
      ]
     },
     "metadata": {},
     "output_type": "display_data"
    }
   ],
   "source": [
    "viz_text(\n",
    "    tokens,\n",
    "    [\n",
    "        \"B-noun phrase\",\n",
    "        \"I-noun phrase\",\n",
    "        \"I-noun phrase\",\n",
    "        \"B-verb phrase\",\n",
    "        \"B-noun phrase\",\n",
    "        \"I-noun phrase\",\n",
    "        \"O\",\n",
    "        \"B-noun phrase\",\n",
    "        \"I-noun phrase\",\n",
    "        \"O\",\n",
    "        \"B-prepositional phrase\",\n",
    "        \"B-noun phrase\",\n",
    "        \"I-noun phrase\",\n",
    "        \"B-prepositional phrase\",\n",
    "        \"O\",\n",
    "        \"B-verb phrase\",\n",
    "        \"O\",\n",
    "        \"B-noun phrase\",\n",
    "        \"B-verb phrase\",\n",
    "        \"O\",\n",
    "        \"O\",\n",
    "        \"B-noun phrase\",\n",
    "        \"B-noun phrase\",\n",
    "        \"B-verb phrase\",\n",
    "        \"B-prepositional phrase\",\n",
    "        \"B-noun phrase\",\n",
    "        \"I-noun phrase\",\n",
    "        \"B-prepositional phrase\",\n",
    "        \"B-noun phrase\",\n",
    "        \"I-noun phrase\",\n",
    "        \"I-noun phrase\",\n",
    "        \"B-prepositional phrase\",\n",
    "        \"B-noun phrase\",\n",
    "        \"I-noun phrase\",\n",
    "        \"O\",\n",
    "    ],\n",
    ")"
   ]
  },
  {
   "cell_type": "code",
   "execution_count": 78,
   "metadata": {},
   "outputs": [
    {
     "data": {
      "text/plain": [
       "[11, 11]"
      ]
     },
     "execution_count": 78,
     "metadata": {},
     "output_type": "execute_result"
    }
   ],
   "source": [
    "labels_chunk[21:23]"
   ]
  },
  {
   "cell_type": "code",
   "execution_count": 83,
   "metadata": {},
   "outputs": [
    {
     "data": {
      "text/plain": [
       "'EU:noun phrase;rejects:verb phrase;German call:noun phrase;to boycott:verb phrase;British lamb:noun phrase'"
      ]
     },
     "execution_count": 83,
     "metadata": {},
     "output_type": "execute_result"
    }
   ],
   "source": [
    "extract_bio_spans(\n",
    "    tokens,\n",
    "    [\n",
    "        \"B-noun phrase\",\n",
    "        \"B-verb phrase\",\n",
    "        \"B-noun phrase\",\n",
    "        \"I-noun phrase\",\n",
    "        \"B-verb phrase\",\n",
    "        \"I-verb phrase\",\n",
    "        \"B-noun phrase\",\n",
    "        \"I-noun phrase\",\n",
    "        \"O\",\n",
    "    ],\n",
    ")"
   ]
  },
  {
   "cell_type": "code",
   "execution_count": 84,
   "metadata": {},
   "outputs": [
    {
     "data": {
      "text/plain": [
       "'EU:organization;German:miscellaneous;British:miscellaneous'"
      ]
     },
     "execution_count": 84,
     "metadata": {},
     "output_type": "execute_result"
    }
   ],
   "source": [
    "extract_bio_spans(\n",
    "    tokens,\n",
    "    [\n",
    "        \"B-organization\",\n",
    "        \"O\",\n",
    "        \"B-miscellaneous\",\n",
    "        \"O\",\n",
    "        \"O\",\n",
    "        \"O\",\n",
    "        \"B-miscellaneous\",\n",
    "        \"O\",\n",
    "        \"O\",\n",
    "    ],\n",
    ")"
   ]
  },
  {
   "cell_type": "code",
   "execution_count": 77,
   "metadata": {},
   "outputs": [
    {
     "data": {
      "text/plain": [
       "'A Florida restaurant:noun phrase;paid:verb phrase;10,925 pounds:noun phrase;$ 16,935:noun phrase;for:prepositional phrase;the draft:noun phrase;of:prepositional phrase;Ai:verb phrase;no:noun phrase;telling:verb phrase;which Hendrix:noun phrase;penned:verb phrase;on:prepositional phrase;a piece:noun phrase;of:prepositional phrase;London hotel stationery:noun phrase;in:prepositional phrase;late 1966:noun phrase'"
      ]
     },
     "execution_count": 77,
     "metadata": {},
     "output_type": "execute_result"
    }
   ],
   "source": [
    "extract_nonzero_spans(tokens, labels_chunk, id2label_chunk)"
   ]
  },
  {
   "cell_type": "code",
   "execution_count": 68,
   "metadata": {},
   "outputs": [
    {
     "data": {
      "text/plain": [
       "\"Florida:location;Ai n't no telling:miscellaneous;Hendrix:person;London:location\""
      ]
     },
     "execution_count": 68,
     "metadata": {},
     "output_type": "execute_result"
    }
   ],
   "source": [
    "extract_nonzero_spans(tokens, labels_ner, id2label_ner)"
   ]
  },
  {
   "cell_type": "code",
   "execution_count": 10,
   "metadata": {},
   "outputs": [
    {
     "data": {
      "text/plain": [
       "['Japan:location', 'Asian Cup:miscellaneous', 'Syria:location']"
      ]
     },
     "execution_count": 10,
     "metadata": {},
     "output_type": "execute_result"
    }
   ],
   "source": [
    "spans.split(\";\")"
   ]
  },
  {
   "cell_type": "code",
   "execution_count": 127,
   "metadata": {},
   "outputs": [],
   "source": [
    "def spans_to_bio_tags(spans, tokens):\n",
    "    entities = spans.split(\";\")\n",
    "\n",
    "    bio_tags = [\"O\"] * len(tokens)\n",
    "\n",
    "    if spans.strip() == \"\":\n",
    "        return bio_tags\n",
    "\n",
    "    start_index = -1\n",
    "\n",
    "    for entity in entities:\n",
    "        entity = entity.lstrip().rstrip()\n",
    "        entity_tokens = [\n",
    "            x.lstrip().rstrip() for x in entity.rsplit(\":\", 1)[0].split(\" \")\n",
    "        ]\n",
    "        entity_type = entity.rsplit(\":\", 1)[1]\n",
    "\n",
    "        for i in range(start_index + 1, len(tokens)):\n",
    "            if tokens[i : i + len(entity_tokens)] == entity_tokens:\n",
    "                start_index = i\n",
    "                break\n",
    "\n",
    "        if start_index != -1:\n",
    "            bio_tags[start_index] = \"B-\" + entity_type\n",
    "            for i in range(start_index + 1, start_index + len(entity_tokens)):\n",
    "                bio_tags[i] = \"I-\" + entity_type\n",
    "\n",
    "    return bio_tags"
   ]
  },
  {
   "cell_type": "code",
   "execution_count": 123,
   "metadata": {},
   "outputs": [
    {
     "data": {
      "text/plain": [
       "['McLaren 1:54.342', 'noun phrase']"
      ]
     },
     "execution_count": 123,
     "metadata": {},
     "output_type": "execute_result"
    }
   ],
   "source": [
    "\"McLaren 1:54.342:noun phrase\".rsplit(\":\", 1)"
   ]
  },
  {
   "cell_type": "code",
   "execution_count": 115,
   "metadata": {},
   "outputs": [
    {
     "data": {
      "text/plain": [
       "['Sheep',\n",
       " 'have',\n",
       " 'long',\n",
       " 'been',\n",
       " 'known',\n",
       " 'to',\n",
       " 'contract',\n",
       " 'scrapie',\n",
       " ',',\n",
       " 'a',\n",
       " 'brain-wasting',\n",
       " 'disease',\n",
       " 'similar',\n",
       " 'to',\n",
       " 'BSE',\n",
       " 'which',\n",
       " 'is',\n",
       " 'believed',\n",
       " 'to',\n",
       " 'have',\n",
       " 'been',\n",
       " 'transferred',\n",
       " 'to',\n",
       " 'cattle',\n",
       " 'through',\n",
       " 'feed',\n",
       " 'containing',\n",
       " 'animal',\n",
       " 'waste',\n",
       " '.']"
      ]
     },
     "execution_count": 115,
     "metadata": {},
     "output_type": "execute_result"
    }
   ],
   "source": [
    "dataset[\"tokens\"][14]"
   ]
  },
  {
   "cell_type": "code",
   "execution_count": 128,
   "metadata": {},
   "outputs": [
    {
     "data": {
      "text/plain": [
       "['B-noun phrase',\n",
       " 'O',\n",
       " 'B-noun phrase',\n",
       " 'O',\n",
       " 'B-verb phrase',\n",
       " 'B-noun phrase',\n",
       " 'O',\n",
       " 'B-noun phrase',\n",
       " 'I-noun phrase',\n",
       " 'I-noun phrase',\n",
       " 'B-adjective phrase',\n",
       " 'B-noun phrase',\n",
       " 'I-noun phrase',\n",
       " 'O',\n",
       " 'B-noun phrase',\n",
       " 'I-noun phrase',\n",
       " 'I-noun phrase',\n",
       " 'B-adjective phrase',\n",
       " 'B-noun phrase',\n",
       " 'B-adverb phrase',\n",
       " 'O']"
      ]
     },
     "execution_count": 128,
     "metadata": {},
     "output_type": "execute_result"
    }
   ],
   "source": [
    "spans = \"Magnificent:noun phrase;':noun phrase;said:verb phrase;Fitzpatrick:noun phrase;New Zealand 's:noun phrase;most:adjective phrase;capped player:noun phrase;the world 's:noun phrase;most:adjective phrase;capped:noun phrase;forward:adverb phrase\"\n",
    "\n",
    "spans_to_bio_tags(spans, dataset[\"tokens\"][5819])"
   ]
  },
  {
   "cell_type": "code",
   "execution_count": 126,
   "metadata": {},
   "outputs": [
    {
     "data": {
      "text/plain": [
       "['B-noun phrase',\n",
       " 'O',\n",
       " 'B-noun phrase',\n",
       " 'O',\n",
       " 'B-verb phrase',\n",
       " 'B-noun phrase',\n",
       " 'O',\n",
       " 'B-noun phrase',\n",
       " 'I-noun phrase',\n",
       " 'I-noun phrase',\n",
       " 'B-adjective phrase',\n",
       " 'B-noun phrase',\n",
       " 'I-noun phrase',\n",
       " 'O',\n",
       " 'B-noun phrase',\n",
       " 'I-noun phrase',\n",
       " 'I-noun phrase',\n",
       " 'B-adjective phrase',\n",
       " 'B-noun phrase',\n",
       " 'B-adverb phrase',\n",
       " 'O']"
      ]
     },
     "execution_count": 126,
     "metadata": {},
     "output_type": "execute_result"
    }
   ],
   "source": [
    "spans = \"Magnificent:noun phrase;':noun phrase;said:verb phrase;Fitzpatrick:noun phrase;New Zealand 's:noun phrase;most:adjective phrase;capped player:noun phrase;the world 's:noun phrase;most:adjective phrase;capped:noun phrase;forward:adverb phrase\"\n",
    "\n",
    "spans_to_bio_tags(spans, dataset[\"tokens\"][5819])"
   ]
  }
 ],
 "metadata": {
  "kernelspec": {
   "display_name": "llama",
   "language": "python",
   "name": "python3"
  },
  "language_info": {
   "codemirror_mode": {
    "name": "ipython",
    "version": 3
   },
   "file_extension": ".py",
   "mimetype": "text/x-python",
   "name": "python",
   "nbconvert_exporter": "python",
   "pygments_lexer": "ipython3",
   "version": "3.8.18"
  }
 },
 "nbformat": 4,
 "nbformat_minor": 2
}
